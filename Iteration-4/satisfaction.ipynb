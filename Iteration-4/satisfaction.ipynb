{
 "cells": [
  {
   "cell_type": "code",
   "execution_count": null,
   "metadata": {
    "scrolled": true
   },
   "outputs": [],
   "source": [
    "!pip3 install --user seaborn"
   ]
  },
  {
   "cell_type": "code",
   "execution_count": 1,
   "metadata": {},
   "outputs": [],
   "source": [
    "# Must be included at the beginning of each new notebook. \n",
    "import findspark\n",
    "findspark.init('/home/ubuntu/spark-2.1.1-bin-hadoop2.7')\n",
    "import pyspark\n",
    "from pyspark.sql import SparkSession\n",
    "spark = SparkSession.builder.appName('satisfaction').getOrCreate()\n",
    "#build spark context\n",
    "from pyspark import SparkContext, SparkConf\n",
    "conf = SparkConf().setAppName(\"satisfaction\").setMaster(\"local\")\n",
    "sc = SparkContext.getOrCreate(conf)"
   ]
  },
  {
   "cell_type": "code",
   "execution_count": 2,
   "metadata": {
    "scrolled": true
   },
   "outputs": [],
   "source": [
    "# Importing data which has a header. Schema is automatically configured.\n",
    "sdata = spark.read.csv('Dataset/satisfaction.csv',\n",
    "                       header=True, inferSchema=True)"
   ]
  },
  {
   "cell_type": "markdown",
   "metadata": {},
   "source": [
    "# Data Exploration"
   ]
  },
  {
   "cell_type": "code",
   "execution_count": 7,
   "metadata": {
    "scrolled": false
   },
   "outputs": [
    {
     "name": "stdout",
     "output_type": "stream",
     "text": [
      "(129880, 24)\n"
     ]
    },
    {
     "data": {
      "text/plain": [
       "[('id', 'int'),\n",
       " ('satisfaction', 'int'),\n",
       " ('Gender', 'string'),\n",
       " ('Customer Type', 'string'),\n",
       " ('Age', 'int'),\n",
       " ('Type of Travel', 'string'),\n",
       " ('Class', 'string'),\n",
       " ('Flight Distance', 'int'),\n",
       " ('Seat comfort', 'int'),\n",
       " ('Departure/Arrival time convenient', 'int'),\n",
       " ('Food and drink', 'int'),\n",
       " ('Gate location', 'int'),\n",
       " ('Inflight wifi service', 'int'),\n",
       " ('Inflight entertainment', 'int'),\n",
       " ('Online support', 'int'),\n",
       " ('Ease of Online booking', 'int'),\n",
       " ('On-board service', 'int'),\n",
       " ('Leg room service', 'int'),\n",
       " ('Baggage handling', 'int'),\n",
       " ('Checkin service', 'int'),\n",
       " ('Cleanliness', 'int'),\n",
       " ('Online boarding', 'int'),\n",
       " ('Departure Delay in Minutes', 'int'),\n",
       " ('Arrival Delay in Minutes', 'int')]"
      ]
     },
     "execution_count": 7,
     "metadata": {},
     "output_type": "execute_result"
    }
   ],
   "source": [
    "#describle the size of data\n",
    "print((sdata.count(), len(sdata.columns)))\n",
    "\n",
    "sdata.dtypes"
   ]
  },
  {
   "cell_type": "code",
   "execution_count": 8,
   "metadata": {
    "scrolled": false
   },
   "outputs": [
    {
     "name": "stdout",
     "output_type": "stream",
     "text": [
      "+------+------------+------+--------------+---+---------------+--------+---------------+------------+---------------------------------+--------------+-------------+---------------------+----------------------+--------------+----------------------+----------------+----------------+----------------+---------------+-----------+---------------+--------------------------+------------------------+\n",
      "|    id|satisfaction|Gender| Customer Type|Age| Type of Travel|   Class|Flight Distance|Seat comfort|Departure/Arrival time convenient|Food and drink|Gate location|Inflight wifi service|Inflight entertainment|Online support|Ease of Online booking|On-board service|Leg room service|Baggage handling|Checkin service|Cleanliness|Online boarding|Departure Delay in Minutes|Arrival Delay in Minutes|\n",
      "+------+------------+------+--------------+---+---------------+--------+---------------+------------+---------------------------------+--------------+-------------+---------------------+----------------------+--------------+----------------------+----------------+----------------+----------------+---------------+-----------+---------------+--------------------------+------------------------+\n",
      "| 11112|           1|Female|Loyal Customer| 65|Personal Travel|     Eco|            265|           0|                                0|             0|            2|                    2|                     4|             2|                     3|               3|               0|               3|              5|          3|              2|                         0|                       0|\n",
      "|110278|           1|  Male|Loyal Customer| 47|Personal Travel|Business|           2464|           0|                                0|             0|            3|                    0|                     2|             2|                     3|               4|               4|               4|              2|          3|              2|                       310|                     305|\n",
      "|103199|           1|Female|Loyal Customer| 15|Personal Travel|     Eco|           2138|           0|                                0|             0|            3|                    2|                     0|             2|                     2|               3|               3|               4|              4|          4|              2|                         0|                       0|\n",
      "+------+------------+------+--------------+---+---------------+--------+---------------+------------+---------------------------------+--------------+-------------+---------------------+----------------------+--------------+----------------------+----------------+----------------+----------------+---------------+-----------+---------------+--------------------------+------------------------+\n",
      "only showing top 3 rows\n",
      "\n"
     ]
    }
   ],
   "source": [
    "sdata.show(3)"
   ]
  },
  {
   "cell_type": "code",
   "execution_count": 5,
   "metadata": {},
   "outputs": [
    {
     "data": {
      "text/plain": [
       "[Row(id=11112, satisfaction=1, Gender='Female', Customer Type='Loyal Customer', Age=65, Type of Travel='Personal Travel', Class='Eco', Flight Distance=265, Seat comfort=0, Departure/Arrival time convenient=0, Food and drink=0, Gate location=2, Inflight wifi service=2, Inflight entertainment=4, Online support=2, Ease of Online booking=3, On-board service=3, Leg room service=0, Baggage handling=3, Checkin service=5, Cleanliness=3, Online boarding=2, Departure Delay in Minutes=0, Arrival Delay in Minutes=0)]"
      ]
     },
     "execution_count": 5,
     "metadata": {},
     "output_type": "execute_result"
    }
   ],
   "source": [
    "sdata.head(1)"
   ]
  },
  {
   "cell_type": "code",
   "execution_count": 9,
   "metadata": {
    "scrolled": true
   },
   "outputs": [
    {
     "name": "stdout",
     "output_type": "stream",
     "text": [
      "+-------+-----------------+------------------+------------------+--------------------------+------------------------+\n",
      "|summary|     Seat comfort|               Age|   Flight Distance|Departure Delay in Minutes|Arrival Delay in Minutes|\n",
      "+-------+-----------------+------------------+------------------+--------------------------+------------------------+\n",
      "|  count|           129880|            129880|            129880|                    129880|                  129487|\n",
      "|   mean|2.838597166615337| 39.42795657530028| 1981.409054511857|        14.713712657838004|       15.09112883918849|\n",
      "| stddev|1.392983243269906|15.119359950371587|1027.1156056133927|         38.07112621503625|      38.465650240119146|\n",
      "|    min|                0|                 7|                50|                         0|                       0|\n",
      "|    max|                5|                85|              6951|                      1592|                    1584|\n",
      "+-------+-----------------+------------------+------------------+--------------------------+------------------------+\n",
      "\n"
     ]
    }
   ],
   "source": [
    "#the summary information of some fields\n",
    "sdata.describe('Seat comfort','Age','Flight Distance','Departure Delay in Minutes','Arrival Delay in Minutes').show()"
   ]
  },
  {
   "cell_type": "code",
   "execution_count": 10,
   "metadata": {},
   "outputs": [
    {
     "name": "stdout",
     "output_type": "stream",
     "text": [
      "+------------+-----+\n",
      "|satisfaction|count|\n",
      "+------------+-----+\n",
      "|           1|71087|\n",
      "|           0|58793|\n",
      "+------------+-----+\n",
      "\n"
     ]
    }
   ],
   "source": [
    "#the number of values in satisfaction field\n",
    "sdata.groupby('satisfaction').count().show()"
   ]
  },
  {
   "cell_type": "code",
   "execution_count": 11,
   "metadata": {
    "scrolled": true
   },
   "outputs": [
    {
     "name": "stdout",
     "output_type": "stream",
     "text": [
      "+----------------------+-----+\n",
      "|Inflight entertainment|count|\n",
      "+----------------------+-----+\n",
      "|                     1|11809|\n",
      "|                     3|24200|\n",
      "|                     5|29831|\n",
      "|                     4|41879|\n",
      "|                     2|19183|\n",
      "|                     0| 2978|\n",
      "+----------------------+-----+\n",
      "\n"
     ]
    }
   ],
   "source": [
    "#the number of values in Inflight entertainment field\n",
    "sdata.groupby('Inflight entertainment').count().show()"
   ]
  },
  {
   "cell_type": "code",
   "execution_count": 12,
   "metadata": {},
   "outputs": [
    {
     "name": "stdout",
     "output_type": "stream",
     "text": [
      "+------------+-----+\n",
      "|Seat comfort|count|\n",
      "+------------+-----+\n",
      "|           1|20949|\n",
      "|           3|29183|\n",
      "|           5|17827|\n",
      "|           4|28398|\n",
      "|           2|28726|\n",
      "|           0| 4797|\n",
      "+------------+-----+\n",
      "\n"
     ]
    }
   ],
   "source": [
    "#the number of values in Seat comfort field\n",
    "sdata.groupby('Seat comfort').count().show()"
   ]
  },
  {
   "cell_type": "code",
   "execution_count": 13,
   "metadata": {},
   "outputs": [
    {
     "name": "stdout",
     "output_type": "stream",
     "text": [
      "+-----------------------------------+----+----+-----+-----+-----+-----+\n",
      "|satisfaction_Inflight entertainment|   0|   1|    2|    3|    4|    5|\n",
      "+-----------------------------------+----+----+-----+-----+-----+-----+\n",
      "|                                  1|1966|2484| 3271| 4815|30150|28401|\n",
      "|                                  0|1012|9325|15912|19385|11729| 1430|\n",
      "+-----------------------------------+----+----+-----+-----+-----+-----+\n",
      "\n"
     ]
    }
   ],
   "source": [
    "#the distribution of satisfaction according to Inflight entertainment field\n",
    "sdata.crosstab('satisfaction', 'Inflight entertainment').show()"
   ]
  },
  {
   "cell_type": "code",
   "execution_count": 14,
   "metadata": {},
   "outputs": [
    {
     "name": "stdout",
     "output_type": "stream",
     "text": [
      "+-------------------------+----+-----+-----+-----+-----+-----+\n",
      "|satisfaction_Seat comfort|   0|    1|    2|    3|    4|    5|\n",
      "+-------------------------+----+-----+-----+-----+-----+-----+\n",
      "|                        1|4787| 9446|10272|10389|18507|17686|\n",
      "|                        0|  10|11503|18454|18794| 9891|  141|\n",
      "+-------------------------+----+-----+-----+-----+-----+-----+\n",
      "\n"
     ]
    }
   ],
   "source": [
    "#the distribution of satisfaction according to Seat comfort field\n",
    "sdata.crosstab('satisfaction', 'Seat comfort').show()"
   ]
  },
  {
   "cell_type": "markdown",
   "metadata": {},
   "source": [
    "# Verifying Data Quality"
   ]
  },
  {
   "cell_type": "code",
   "execution_count": 16,
   "metadata": {},
   "outputs": [
    {
     "name": "stdout",
     "output_type": "stream",
     "text": [
      "+-------+------+------------+------+-------------+------+--------------+------+---------------+------------+---------------------------------+--------------+-------------+---------------------+----------------------+--------------+----------------------+----------------+----------------+----------------+---------------+-----------+---------------+--------------------------+------------------------+\n",
      "|summary|    id|satisfaction|Gender|Customer Type|   Age|Type of Travel| Class|Flight Distance|Seat comfort|Departure/Arrival time convenient|Food and drink|Gate location|Inflight wifi service|Inflight entertainment|Online support|Ease of Online booking|On-board service|Leg room service|Baggage handling|Checkin service|Cleanliness|Online boarding|Departure Delay in Minutes|Arrival Delay in Minutes|\n",
      "+-------+------+------------+------+-------------+------+--------------+------+---------------+------------+---------------------------------+--------------+-------------+---------------------+----------------------+--------------+----------------------+----------------+----------------+----------------+---------------+-----------+---------------+--------------------------+------------------------+\n",
      "|  count|129880|      129880|129880|       129880|129880|        129880|129880|         129880|      129880|                           129880|        129880|       129880|               129880|                129880|        129880|                129880|          129880|          129880|          129880|         129880|     129880|         129880|                    129880|                  129487|\n",
      "+-------+------+------------+------+-------------+------+--------------+------+---------------+------------+---------------------------------+--------------+-------------+---------------------+----------------------+--------------+----------------------+----------------+----------------+----------------+---------------+-----------+---------------+--------------------------+------------------------+\n",
      "\n"
     ]
    }
   ],
   "source": [
    "from pyspark.sql.functions import col\n",
    "\n",
    "sdata.describe().filter(col(\"summary\") == \"count\").show()"
   ]
  },
  {
   "cell_type": "code",
   "execution_count": 17,
   "metadata": {},
   "outputs": [
    {
     "name": "stdout",
     "output_type": "stream",
     "text": [
      "The number of null value is: 393\n"
     ]
    }
   ],
   "source": [
    "#count null values\n",
    "nullCount = sdata.where(sdata['Arrival Delay in Minutes'].isNull()).count()\n",
    "print('The number of null value is: ' + str(nullCount))"
   ]
  },
  {
   "cell_type": "code",
   "execution_count": 18,
   "metadata": {},
   "outputs": [
    {
     "name": "stdout",
     "output_type": "stream",
     "text": [
      "The number of duplicate value is: 0\n"
     ]
    }
   ],
   "source": [
    "#count duplicate values\n",
    "num = sdata.count() - sdata.select('id').distinct().count()\n",
    "print('The number of duplicate value is: ' + str(num))"
   ]
  },
  {
   "cell_type": "markdown",
   "metadata": {},
   "source": [
    "# Data selection"
   ]
  },
  {
   "cell_type": "code",
   "execution_count": 3,
   "metadata": {},
   "outputs": [],
   "source": [
    "#drop irrelevant columns\n",
    "sdata = sdata.drop('id','Gender','Customer Type','Age',\n",
    "                   'Type of Travel','Class','Flight Distance',\n",
    "                   'Departure Delay in Minutes','Arrival Delay in Minutes')"
   ]
  },
  {
   "cell_type": "code",
   "execution_count": 20,
   "metadata": {},
   "outputs": [
    {
     "name": "stdout",
     "output_type": "stream",
     "text": [
      "root\n",
      " |-- satisfaction: integer (nullable = true)\n",
      " |-- Seat comfort: integer (nullable = true)\n",
      " |-- Departure/Arrival time convenient: integer (nullable = true)\n",
      " |-- Food and drink: integer (nullable = true)\n",
      " |-- Gate location: integer (nullable = true)\n",
      " |-- Inflight wifi service: integer (nullable = true)\n",
      " |-- Inflight entertainment: integer (nullable = true)\n",
      " |-- Online support: integer (nullable = true)\n",
      " |-- Ease of Online booking: integer (nullable = true)\n",
      " |-- On-board service: integer (nullable = true)\n",
      " |-- Leg room service: integer (nullable = true)\n",
      " |-- Baggage handling: integer (nullable = true)\n",
      " |-- Checkin service: integer (nullable = true)\n",
      " |-- Cleanliness: integer (nullable = true)\n",
      " |-- Online boarding: integer (nullable = true)\n",
      "\n"
     ]
    }
   ],
   "source": [
    "sdata.printSchema()"
   ]
  },
  {
   "cell_type": "code",
   "execution_count": 4,
   "metadata": {},
   "outputs": [
    {
     "name": "stdout",
     "output_type": "stream",
     "text": [
      "+------------+-----+\n",
      "|Seat comfort|count|\n",
      "+------------+-----+\n",
      "|         low|83655|\n",
      "|        high|46225|\n",
      "+------------+-----+\n",
      "\n",
      "+--------------+-----+\n",
      "|Food and drink|count|\n",
      "+--------------+-----+\n",
      "|           low|82317|\n",
      "|          high|47563|\n",
      "+--------------+-----+\n",
      "\n",
      "+---------------+-----+\n",
      "|Online boarding|count|\n",
      "+---------------+-----+\n",
      "|            low|64726|\n",
      "|           high|65154|\n",
      "+---------------+-----+\n",
      "\n"
     ]
    }
   ],
   "source": [
    "from pyspark.sql import functions as f\n",
    "#group values in key attributes \n",
    "sdata = sdata.withColumn('Seat comfort',f.when(f.col('Seat comfort') <=3, 'low').otherwise('high'))\n",
    "sdata = sdata.withColumn('Departure/Arrival time convenient',\n",
    "                          f.when(f.col('Departure/Arrival time convenient') <=3, 'low').otherwise('high'))\n",
    "sdata = sdata.withColumn('Food and drink',f.when(f.col('Food and drink') <=3, 'low').otherwise('high'))\n",
    "sdata = sdata.withColumn('Gate location',f.when(f.col('Gate location') <=3, 'low').otherwise('high'))\n",
    "sdata = sdata.withColumn('Inflight wifi service',f.when(f.col('Inflight wifi service') <=3, 'low').otherwise('high'))\n",
    "sdata = sdata.withColumn('Inflight entertainment',f.when(f.col('Inflight entertainment') <=3, 'low').otherwise('high'))\n",
    "sdata = sdata.withColumn('Online support',f.when(f.col('Online support') <=3, 'low').otherwise('high'))\n",
    "sdata = sdata.withColumn('Ease of Online booking',f.when(f.col('Ease of Online booking') <=3, 'low').otherwise('high'))\n",
    "sdata = sdata.withColumn('On-board service',f.when(f.col('On-board service') <=3, 'low').otherwise('high'))\n",
    "sdata = sdata.withColumn('Leg room service',f.when(f.col('Leg room service') <=3, 'low').otherwise('high'))\n",
    "sdata = sdata.withColumn('Baggage handling',f.when(f.col('Baggage handling') <=3, 'low').otherwise('high'))\n",
    "sdata = sdata.withColumn('Checkin service',f.when(f.col('Checkin service') <=3, 'low').otherwise('high'))\n",
    "sdata = sdata.withColumn('Cleanliness',f.when(f.col('Cleanliness') <=3, 'low').otherwise('high'))\n",
    "sdata = sdata.withColumn('Online boarding',f.when(f.col('Online boarding') <=3, 'low').otherwise('high'))\n",
    "#show the group results\n",
    "sdata.groupby('Seat comfort').count().show()\n",
    "sdata.groupby('Food and drink').count().show()\n",
    "sdata.groupby('Online boarding').count().show()"
   ]
  },
  {
   "cell_type": "markdown",
   "metadata": {},
   "source": [
    "# Data Integration"
   ]
  },
  {
   "cell_type": "code",
   "execution_count": 5,
   "metadata": {},
   "outputs": [
    {
     "name": "stdout",
     "output_type": "stream",
     "text": [
      "root\n",
      " |-- id: integer (nullable = true)\n",
      " |-- satisfaction: integer (nullable = true)\n",
      " |-- Gender: string (nullable = true)\n",
      " |-- Customer Type: string (nullable = true)\n",
      " |-- Age: integer (nullable = true)\n",
      " |-- Type of Travel: string (nullable = true)\n",
      " |-- Class: string (nullable = true)\n",
      " |-- Flight Distance: integer (nullable = true)\n",
      " |-- Seat comfort: integer (nullable = true)\n",
      " |-- Departure/Arrival time convenient: integer (nullable = true)\n",
      " |-- Food and drink: integer (nullable = true)\n",
      " |-- Gate location: integer (nullable = true)\n",
      " |-- Inflight wifi service: integer (nullable = true)\n",
      " |-- Inflight entertainment: integer (nullable = true)\n",
      " |-- Online support: integer (nullable = true)\n",
      " |-- Ease of Online booking: integer (nullable = true)\n",
      " |-- On-board service: integer (nullable = true)\n",
      " |-- Leg room service: integer (nullable = true)\n",
      " |-- Baggage handling: integer (nullable = true)\n",
      " |-- Checkin service: integer (nullable = true)\n",
      " |-- Cleanliness: integer (nullable = true)\n",
      " |-- Online boarding: integer (nullable = true)\n",
      " |-- Departure Delay in Minutes: integer (nullable = true)\n",
      " |-- Arrival Delay in Minutes: integer (nullable = true)\n",
      "\n"
     ]
    }
   ],
   "source": [
    "# Importing data which has a header. Schema is automatically configured.\n",
    "sdata2015 = spark.read.csv('Dataset/satisfaction_2015.csv',\n",
    "                           header=True, inferSchema=True)\n",
    "sdata2015.printSchema()"
   ]
  },
  {
   "cell_type": "code",
   "execution_count": 6,
   "metadata": {},
   "outputs": [],
   "source": [
    "#drop columns\n",
    "sdata2015 = sdata2015.drop('id','Gender','Customer Type','Age',\n",
    "                   'Type of Travel','Class','Flight Distance',\n",
    "                   'Departure Delay in Minutes','Arrival Delay in Minutes')"
   ]
  },
  {
   "cell_type": "code",
   "execution_count": 7,
   "metadata": {},
   "outputs": [],
   "source": [
    "#group values in key attributes \n",
    "sdata2015 = sdata2015.withColumn('Seat comfort',\n",
    "                                 f.when(f.col('Seat comfort')<=3, 'low').otherwise('high'))\n",
    "sdata2015 = sdata2015.withColumn('Departure/Arrival time convenient',\n",
    "                                  f.when(f.col('Departure/Arrival time convenient')<=3,'low').otherwise('high'))\n",
    "sdata2015 = sdata2015.withColumn('Food and drink',\n",
    "                                 f.when(f.col('Food and drink') <=3, 'low').otherwise('high'))\n",
    "sdata2015 = sdata2015.withColumn('Gate location',\n",
    "                                 f.when(f.col('Gate location') <=3, 'low').otherwise('high'))\n",
    "sdata2015 = sdata2015.withColumn('Inflight wifi service',\n",
    "                                 f.when(f.col('Inflight wifi service') <=3, 'low').otherwise('high'))\n",
    "sdata2015 = sdata2015.withColumn('Inflight entertainment',\n",
    "                                 f.when(f.col('Inflight entertainment') <=3, 'low').otherwise('high'))\n",
    "sdata2015 = sdata2015.withColumn('Online support',\n",
    "                                 f.when(f.col('Online support') <=3, 'low').otherwise('high'))\n",
    "sdata2015 = sdata2015.withColumn('Ease of Online booking',\n",
    "                                 f.when(f.col('Ease of Online booking') <=3, 'low').otherwise('high'))\n",
    "sdata2015 = sdata2015.withColumn('On-board service',\n",
    "                                 f.when(f.col('On-board service') <=3, 'low').otherwise('high'))\n",
    "sdata2015 = sdata2015.withColumn('Leg room service',\n",
    "                                 f.when(f.col('Leg room service') <=3, 'low').otherwise('high'))\n",
    "sdata2015 = sdata2015.withColumn('Baggage handling',\n",
    "                                 f.when(f.col('Baggage handling') <=3, 'low').otherwise('high'))\n",
    "sdata2015 = sdata2015.withColumn('Checkin service',\n",
    "                                 f.when(f.col('Checkin service') <=3, 'low').otherwise('high'))\n",
    "sdata2015 = sdata2015.withColumn('Cleanliness',\n",
    "                                 f.when(f.col('Cleanliness') <=3, 'low').otherwise('high'))\n",
    "sdata2015 = sdata2015.withColumn('Online boarding',\n",
    "                                 f.when(f.col('Online boarding') <=3, 'low').otherwise('high'))"
   ]
  },
  {
   "cell_type": "code",
   "execution_count": 8,
   "metadata": {},
   "outputs": [
    {
     "name": "stdout",
     "output_type": "stream",
     "text": [
      "The total number of records is:259760\n"
     ]
    }
   ],
   "source": [
    "#merge two data sets\n",
    "sdataTotal = sdata.union(sdata2015)\n",
    "#show the total number of records\n",
    "print('The total number of records is:' + str(sdataTotal.count()))"
   ]
  },
  {
   "cell_type": "markdown",
   "metadata": {},
   "source": [
    "# Formating Data"
   ]
  },
  {
   "cell_type": "code",
   "execution_count": 26,
   "metadata": {},
   "outputs": [
    {
     "name": "stdout",
     "output_type": "stream",
     "text": [
      "root\n",
      " |-- satisfaction: integer (nullable = true)\n",
      " |-- Seat comfort: string (nullable = false)\n",
      " |-- Departure/Arrival time convenient: string (nullable = false)\n",
      " |-- Food and drink: string (nullable = false)\n",
      " |-- Gate location: string (nullable = false)\n",
      " |-- Inflight wifi service: string (nullable = false)\n",
      " |-- Inflight entertainment: string (nullable = false)\n",
      " |-- Online support: string (nullable = false)\n",
      " |-- Ease of Online booking: string (nullable = false)\n",
      " |-- On-board service: string (nullable = false)\n",
      " |-- Leg room service: string (nullable = false)\n",
      " |-- Baggage handling: string (nullable = false)\n",
      " |-- Checkin service: string (nullable = false)\n",
      " |-- Cleanliness: string (nullable = false)\n",
      " |-- Online boarding: string (nullable = false)\n",
      "\n"
     ]
    }
   ],
   "source": [
    "sdataTotal.printSchema()"
   ]
  },
  {
   "cell_type": "code",
   "execution_count": 27,
   "metadata": {},
   "outputs": [
    {
     "name": "stdout",
     "output_type": "stream",
     "text": [
      "+------------+\n",
      "|satisfaction|\n",
      "+------------+\n",
      "|           1|\n",
      "|           1|\n",
      "|           1|\n",
      "|           1|\n",
      "|           1|\n",
      "+------------+\n",
      "only showing top 5 rows\n",
      "\n"
     ]
    }
   ],
   "source": [
    "sdataTotal.select('satisfaction').show(5)"
   ]
  },
  {
   "cell_type": "code",
   "execution_count": 9,
   "metadata": {},
   "outputs": [],
   "source": [
    "#group values of key attributes \n",
    "sdataTotal = sdataTotal.withColumn('Seat comfort',\n",
    "                                 f.when(f.col('Seat comfort')=='low', 0).otherwise(1))\n",
    "sdataTotal = sdataTotal.withColumn('Departure/Arrival time convenient',\n",
    "                                  f.when(f.col('Departure/Arrival time convenient')=='low', 0).otherwise(1))\n",
    "sdataTotal = sdataTotal.withColumn('Food and drink',\n",
    "                                 f.when(f.col('Food and drink')=='low', 0).otherwise(1))\n",
    "sdataTotal = sdataTotal.withColumn('Gate location',\n",
    "                                 f.when(f.col('Gate location')=='low', 0).otherwise(1))\n",
    "sdataTotal = sdataTotal.withColumn('Inflight wifi service',\n",
    "                                 f.when(f.col('Inflight wifi service')=='low', 0).otherwise(1))\n",
    "sdataTotal = sdataTotal.withColumn('Inflight entertainment',\n",
    "                                 f.when(f.col('Inflight entertainment')=='low', 0).otherwise(1))\n",
    "sdataTotal = sdataTotal.withColumn('Online support',\n",
    "                                 f.when(f.col('Online support')=='low', 0).otherwise(1))\n",
    "sdataTotal = sdataTotal.withColumn('Ease of Online booking',\n",
    "                                 f.when(f.col('Ease of Online booking')=='low', 0).otherwise(1))\n",
    "sdataTotal = sdataTotal.withColumn('On-board service',\n",
    "                                 f.when(f.col('On-board service')=='low', 0).otherwise(1))\n",
    "sdataTotal = sdataTotal.withColumn('Leg room service',\n",
    "                                 f.when(f.col('Leg room service')=='low', 0).otherwise(1))\n",
    "sdataTotal = sdataTotal.withColumn('Baggage handling',\n",
    "                                 f.when(f.col('Baggage handling')=='low', 0).otherwise(1))\n",
    "sdataTotal = sdataTotal.withColumn('Checkin service',\n",
    "                                 f.when(f.col('Checkin service')=='low', 0).otherwise(1))\n",
    "sdataTotal = sdataTotal.withColumn('Cleanliness',\n",
    "                                 f.when(f.col('Cleanliness')=='low', 0).otherwise(1))\n",
    "sdataTotal = sdataTotal.withColumn('Online boarding',\n",
    "                                 f.when(f.col('Online boarding')=='low', 0).otherwise(1))"
   ]
  },
  {
   "cell_type": "code",
   "execution_count": 29,
   "metadata": {
    "scrolled": true
   },
   "outputs": [
    {
     "name": "stdout",
     "output_type": "stream",
     "text": [
      "root\n",
      " |-- satisfaction: integer (nullable = true)\n",
      " |-- Seat comfort: integer (nullable = false)\n",
      " |-- Departure/Arrival time convenient: integer (nullable = false)\n",
      " |-- Food and drink: integer (nullable = false)\n",
      " |-- Gate location: integer (nullable = false)\n",
      " |-- Inflight wifi service: integer (nullable = false)\n",
      " |-- Inflight entertainment: integer (nullable = false)\n",
      " |-- Online support: integer (nullable = false)\n",
      " |-- Ease of Online booking: integer (nullable = false)\n",
      " |-- On-board service: integer (nullable = false)\n",
      " |-- Leg room service: integer (nullable = false)\n",
      " |-- Baggage handling: integer (nullable = false)\n",
      " |-- Checkin service: integer (nullable = false)\n",
      " |-- Cleanliness: integer (nullable = false)\n",
      " |-- Online boarding: integer (nullable = false)\n",
      "\n"
     ]
    }
   ],
   "source": [
    "sdataTotal.printSchema()"
   ]
  },
  {
   "cell_type": "markdown",
   "metadata": {},
   "source": [
    "# Reducing Data"
   ]
  },
  {
   "cell_type": "code",
   "execution_count": 10,
   "metadata": {
    "scrolled": true
   },
   "outputs": [
    {
     "name": "stdout",
     "output_type": "stream",
     "text": [
      "[ 1.          0.33350747 -0.03652083  0.17755485  0.02634508  0.31166526\n",
      "  0.50688262  0.33801023  0.36648668  0.32983659  0.3376179   0.27501067\n",
      "  0.18120575  0.28403197  0.42902678]\n"
     ]
    }
   ],
   "source": [
    "#import Statistics\n",
    "from pyspark.mllib.stat import Statistics\n",
    "\n",
    "#convert dataframe to rdd\n",
    "sdataRdd = sdataTotal.rdd.map(lambda i: i[0:])\n",
    "#calculate the correlation between columns\n",
    "result = Statistics.corr(sdataRdd)\n",
    "\n",
    "#show the first row of the correlation results\n",
    "print(result[0])"
   ]
  },
  {
   "cell_type": "code",
   "execution_count": 12,
   "metadata": {
    "scrolled": true
   },
   "outputs": [
    {
     "data": {
      "text/plain": [
       "['satisfaction',\n",
       " 'Seat comfort',\n",
       " 'Departure/Arrival time convenient',\n",
       " 'Food and drink',\n",
       " 'Gate location',\n",
       " 'Inflight wifi service',\n",
       " 'Inflight entertainment',\n",
       " 'Online support',\n",
       " 'Ease of Online booking',\n",
       " 'On-board service',\n",
       " 'Leg room service',\n",
       " 'Baggage handling',\n",
       " 'Checkin service',\n",
       " 'Cleanliness',\n",
       " 'Online boarding']"
      ]
     },
     "execution_count": 12,
     "metadata": {},
     "output_type": "execute_result"
    }
   ],
   "source": [
    "sdataTotal.columns"
   ]
  },
  {
   "cell_type": "code",
   "execution_count": 22,
   "metadata": {
    "scrolled": false
   },
   "outputs": [
    {
     "data": {
      "text/plain": [
       "<matplotlib.axes._subplots.AxesSubplot at 0x7fdf90fb1f60>"
      ]
     },
     "execution_count": 22,
     "metadata": {},
     "output_type": "execute_result"
    },
    {
     "data": {
      "image/png": "[encoded data removed]",
      "text/plain": [
       "<Figure size 1584x720 with 2 Axes>"
      ]
     },
     "metadata": {},
     "output_type": "display_data"
    }
   ],
   "source": [
    "#draw heatmap of correlation\n",
    "import seaborn as sns \n",
    "import matplotlib.pyplot as plt\n",
    "plt.figure(figsize=(22,10))\n",
    "sns.heatmap(result, cmap=\"OrRd\", annot=True)"
   ]
  },
  {
   "cell_type": "code",
   "execution_count": 23,
   "metadata": {},
   "outputs": [
    {
     "data": {
      "text/plain": [
       "['satisfaction',\n",
       " 'Seat comfort',\n",
       " 'Inflight wifi service',\n",
       " 'Inflight entertainment',\n",
       " 'Online support',\n",
       " 'Ease of Online booking',\n",
       " 'On-board service',\n",
       " 'Leg room service',\n",
       " 'Baggage handling',\n",
       " 'Cleanliness',\n",
       " 'Online boarding']"
      ]
     },
     "execution_count": 23,
     "metadata": {},
     "output_type": "execute_result"
    }
   ],
   "source": [
    "#drop columns\n",
    "sdataTotal = sdataTotal.drop(\"Departure/Arrival time convenient\")\n",
    "sdataTotal = sdataTotal.drop(\"Food and drink\")\n",
    "sdataTotal = sdataTotal.drop(\"Gate location\")\n",
    "sdataTotal = sdataTotal.drop(\"Checkin service\")\n",
    "\n",
    "sdataTotal.columns"
   ]
  },
  {
   "cell_type": "markdown",
   "metadata": {},
   "source": [
    "# Data Projection"
   ]
  },
  {
   "cell_type": "code",
   "execution_count": 24,
   "metadata": {},
   "outputs": [
    {
     "data": {
      "text/plain": [
       "['satisfaction',\n",
       " 'Seat_comfort',\n",
       " 'Inflight_wifi_service',\n",
       " 'Inflight_entertainment',\n",
       " 'Online_support',\n",
       " 'Ease_of_Online_booking',\n",
       " 'On-board_service',\n",
       " 'Leg_room_service',\n",
       " 'Baggage_handling',\n",
       " 'Cleanliness',\n",
       " 'Online_boarding']"
      ]
     },
     "execution_count": 24,
     "metadata": {},
     "output_type": "execute_result"
    }
   ],
   "source": [
    "#modify column name\n",
    "sdataTotal = sdataTotal.withColumnRenamed(\"Seat comfort\", \"Seat_comfort\")\\\n",
    "        .withColumnRenamed(\"Inflight wifi service\", \"Inflight_wifi_service\")\\\n",
    "        .withColumnRenamed(\"Inflight entertainment\", \"Inflight_entertainment\")\\\n",
    "        .withColumnRenamed(\"Online support\", \"Online_support\")\\\n",
    "        .withColumnRenamed(\"Ease of Online booking\", \"Ease_of_Online_booking\")\\\n",
    "        .withColumnRenamed(\"On-board service\", \"On-board_service\")\\\n",
    "        .withColumnRenamed(\"Leg room service\", \"Leg_room_service\")\\\n",
    "        .withColumnRenamed(\"Baggage handling\", \"Baggage_handling\")\\\n",
    "        .withColumnRenamed(\"Cleanliness\", \"Cleanliness\")\\\n",
    "        .withColumnRenamed(\"Online boarding\", \"Online_boarding\")\n",
    "sdataTotal.columns"
   ]
  },
  {
   "cell_type": "code",
   "execution_count": 37,
   "metadata": {},
   "outputs": [
    {
     "name": "stdout",
     "output_type": "stream",
     "text": [
      "+------------+------+\n",
      "|satisfaction| count|\n",
      "+------------+------+\n",
      "|           1|127515|\n",
      "|           0|132245|\n",
      "+------------+------+\n",
      "\n"
     ]
    }
   ],
   "source": [
    "#the number of values in satisfaction field\n",
    "sdataTotal.groupby('satisfaction').count().show()"
   ]
  },
  {
   "cell_type": "markdown",
   "metadata": {},
   "source": [
    "# 6 Algorithms Selection"
   ]
  },
  {
   "cell_type": "code",
   "execution_count": 84,
   "metadata": {},
   "outputs": [
    {
     "name": "stdout",
     "output_type": "stream",
     "text": [
      "root\n",
      " |-- features: vector (nullable = true)\n",
      " |-- satisfaction: integer (nullable = true)\n",
      "\n"
     ]
    }
   ],
   "source": [
    "# Import VectorAssembler and Vectors\n",
    "from pyspark.ml.linalg import Vectors\n",
    "from pyspark.ml.feature import VectorAssembler\n",
    "\n",
    "# Combine all features into one vector named features.\n",
    "assembler = VectorAssembler(\n",
    "  inputCols=['Seat_comfort',\n",
    "             'Inflight_wifi_service',\n",
    "             'Inflight_entertainment',\n",
    "             'Online_support',\n",
    "             'Ease_of_Online_booking',\n",
    "             'On-board_service',\n",
    "             'Leg_room_service',\n",
    "             'Baggage_handling',\n",
    "             'Cleanliness',\n",
    "             'Online_boarding'],\n",
    "              outputCol=\"features\")\n",
    "\n",
    "#transform the data. \n",
    "output = assembler.transform(sdataTotal)\n",
    "#join features and target column\n",
    "final_data = output.select(\"features\",'satisfaction')\n",
    "final_data.printSchema()"
   ]
  },
  {
   "cell_type": "code",
   "execution_count": 85,
   "metadata": {},
   "outputs": [
    {
     "name": "stdout",
     "output_type": "stream",
     "text": [
      "+--------------------+------------+\n",
      "|            features|satisfaction|\n",
      "+--------------------+------------+\n",
      "|      (10,[2],[1.0])|           1|\n",
      "|(10,[5,6,7],[1.0,...|           1|\n",
      "|(10,[7,8],[1.0,1.0])|           1|\n",
      "|      (10,[2],[1.0])|           1|\n",
      "|(10,[1,3,9],[1.0,...|           1|\n",
      "|(10,[5,6,7,8],[1....|           1|\n",
      "|[0.0,0.0,1.0,1.0,...|           1|\n",
      "|(10,[7,8],[1.0,1.0])|           1|\n",
      "|[0.0,1.0,0.0,1.0,...|           1|\n",
      "|(10,[6,7,8],[1.0,...|           1|\n",
      "|      (10,[9],[1.0])|           1|\n",
      "|(10,[7,8],[1.0,1.0])|           1|\n",
      "|(10,[1,3,4,8,9],[...|           1|\n",
      "|(10,[1,3,4,6,9],[...|           1|\n",
      "|(10,[1,4,5,7,8],[...|           1|\n",
      "|      (10,[6],[1.0])|           1|\n",
      "|[0.0,1.0,0.0,1.0,...|           1|\n",
      "|          (10,[],[])|           1|\n",
      "|          (10,[],[])|           1|\n",
      "|      (10,[6],[1.0])|           1|\n",
      "+--------------------+------------+\n",
      "only showing top 20 rows\n",
      "\n"
     ]
    }
   ],
   "source": [
    "final_data = output.select(\"features\",'satisfaction')\n",
    "final_data.show()"
   ]
  },
  {
   "cell_type": "code",
   "execution_count": 86,
   "metadata": {},
   "outputs": [
    {
     "name": "stdout",
     "output_type": "stream",
     "text": [
      "----------------------------------------\n",
      "The number of train set is 208048\n",
      "----------------------------------------\n",
      "The number of train set is 51712\n"
     ]
    }
   ],
   "source": [
    "train_data,test_data = final_data.randomSplit([0.8,0.2])\n",
    "\n",
    "print('-'*40)\n",
    "print('The number of train set is ' + str(train_data.count()))\n",
    "print('-'*40)\n",
    "print('The number of train set is ' + str(test_data.count()))"
   ]
  },
  {
   "cell_type": "code",
   "execution_count": 41,
   "metadata": {},
   "outputs": [
    {
     "name": "stdout",
     "output_type": "stream",
     "text": [
      "+-------+------------------+\n",
      "|summary|      satisfaction|\n",
      "+-------+------------------+\n",
      "|  count|            207952|\n",
      "|   mean| 0.490584365622836|\n",
      "| stddev|0.4999125399599821|\n",
      "|    min|                 0|\n",
      "|    max|                 1|\n",
      "+-------+------------------+\n",
      "\n",
      "+-------+------------------+\n",
      "|summary|      satisfaction|\n",
      "+-------+------------------+\n",
      "|  count|             51808|\n",
      "|   mean|0.4921440704138357|\n",
      "| stddev|0.4999431055448151|\n",
      "|    min|                 0|\n",
      "|    max|                 1|\n",
      "+-------+------------------+\n",
      "\n"
     ]
    }
   ],
   "source": [
    "# Let's see our training data.\n",
    "train_data.describe().show()\n",
    "\n",
    "# And our testing data.\n",
    "test_data.describe().show()"
   ]
  },
  {
   "cell_type": "code",
   "execution_count": 43,
   "metadata": {},
   "outputs": [
    {
     "name": "stdout",
     "output_type": "stream",
     "text": [
      "----------------------------------------\n",
      "DecisionTreeClassifier has an accuracy of: 82.97%\n",
      "----------------------------------------\n",
      "RandomForestClassifier has an accuracy of: 82.67%\n",
      "----------------------------------------\n",
      "LogisticRegression has an accuracy of: 78.92%\n",
      "----------------------------------------\n",
      "NaiveBayes has an accuracy of: 63.44%\n"
     ]
    }
   ],
   "source": [
    "#Compare several classification algorithms\n",
    "from pyspark.ml.classification import DecisionTreeClassifier\n",
    "from pyspark.ml.classification import NaiveBayes\n",
    "from pyspark.ml.classification import RandomForestClassifier\n",
    "from pyspark.ml.classification import LogisticRegression\n",
    "from pyspark.ml.evaluation import MulticlassClassificationEvaluator\n",
    "\n",
    "acc_evaluator = MulticlassClassificationEvaluator(labelCol=\"satisfaction\")\n",
    "\n",
    "#create a list to store algorithms\n",
    "Algorithms = [ DecisionTreeClassifier(labelCol='satisfaction', featuresCol='features'),\n",
    "              RandomForestClassifier(labelCol='satisfaction',featuresCol='features'),\n",
    "              LogisticRegression(labelCol='satisfaction',featuresCol='features'), \n",
    "              NaiveBayes(smoothing=1.0, modelType=\"multinomial\", labelCol='satisfaction'),]\n",
    "#create a list to store algorithm names and comparison results\n",
    "list_name = ['DecisionTreeClassifier', \n",
    "             'RandomForestClassifier', \n",
    "             'LogisticRegression', \n",
    "             'NaiveBayes']\n",
    "list_resu = []\n",
    "\n",
    "row_index = 0\n",
    "for algo in Algorithms:\n",
    " #loop display results       \n",
    "    predictor = algo.fit(train_data).transform(test_data)\n",
    "    acc = acc_evaluator.evaluate(predictor)\n",
    "    print('-'*40)\n",
    "    print(list_name[row_index] + ' has an accuracy of: {0:2.2f}%'.format(acc*100))\n",
    "    list_resu.insert(row_index, round(acc, 4)*100)\n",
    "    row_index += 1\n"
   ]
  },
  {
   "cell_type": "code",
   "execution_count": 44,
   "metadata": {},
   "outputs": [
    {
     "data": {
      "text/plain": [
       "Text(0,0.5,'Accuracy')"
      ]
     },
     "execution_count": 44,
     "metadata": {},
     "output_type": "execute_result"
    },
    {
     "data": {
      "image/png": "[encoded data removed]",
      "text/plain": [
       "<Figure size 720x432 with 1 Axes>"
      ]
     },
     "metadata": {},
     "output_type": "display_data"
    }
   ],
   "source": [
    "# multiple line plot\n",
    "import matplotlib.pyplot as plt \n",
    "plt.figure(figsize=(10, 6))\n",
    "\n",
    "plt.plot(list_name, list_resu)\n",
    "\n",
    "# Add titles\n",
    "plt.title(\"Algorithm accuracy (%)\")\n",
    "plt.xlabel(\"Algorithm Name\")\n",
    "plt.ylabel(\"Accuracy\")\n"
   ]
  },
  {
   "cell_type": "markdown",
   "metadata": {},
   "source": [
    "# Model Conduction"
   ]
  },
  {
   "cell_type": "code",
   "execution_count": 87,
   "metadata": {
    "scrolled": true
   },
   "outputs": [
    {
     "data": {
      "text/plain": [
       "<bound method Params.extractParamMap of DecisionTreeClassificationModel (uid=DecisionTreeClassifier_4deea73614f9423d21ea) of depth 3 with 15 nodes>"
      ]
     },
     "execution_count": 87,
     "metadata": {},
     "output_type": "execute_result"
    }
   ],
   "source": [
    "from pyspark.ml.classification import DecisionTreeClassifier\n",
    "\n",
    "# Decision tree for classification\n",
    "classifier = DecisionTreeClassifier(labelCol='satisfaction', \n",
    "                                    featuresCol='features',\n",
    "                                    maxDepth=3)\n",
    "\n",
    "# Train the model\n",
    "model = classifier.fit(train_data)\n",
    "model.extractParamMap"
   ]
  },
  {
   "cell_type": "code",
   "execution_count": 88,
   "metadata": {},
   "outputs": [
    {
     "name": "stdout",
     "output_type": "stream",
     "text": [
      "----------------------------------------\n",
      "The accuracy of Decision tree is: 81.77%\n",
      "----------------------------------------\n"
     ]
    }
   ],
   "source": [
    "from pyspark.ml.evaluation import MulticlassClassificationEvaluator\n",
    "\n",
    "predictor = model.transform(test_data)\n",
    "evaluator = MulticlassClassificationEvaluator(labelCol=\"satisfaction\", \n",
    "                                              predictionCol=\"prediction\",\n",
    "                                              metricName=\"accuracy\")\n",
    "\n",
    "accuracy = evaluator.evaluate(predictor)\n",
    "print('-'*40)\n",
    "print('The accuracy of Decision tree is: {0:2.2f}%'.format(accuracy*100))\n",
    "print('-'*40)"
   ]
  },
  {
   "cell_type": "code",
   "execution_count": 50,
   "metadata": {},
   "outputs": [
    {
     "data": {
      "text/plain": [
       "SparseVector(10, {0: 0.0736, 2: 0.5805, 4: 0.1514, 6: 0.028, 8: 0.0175, 9: 0.1491})"
      ]
     },
     "execution_count": 50,
     "metadata": {},
     "output_type": "execute_result"
    }
   ],
   "source": [
    "#extract feature importance\n",
    "model.featureImportances"
   ]
  },
  {
   "cell_type": "code",
   "execution_count": 51,
   "metadata": {},
   "outputs": [
    {
     "data": {
      "text/plain": [
       "Text(0,0.5,'Importance')"
      ]
     },
     "execution_count": 51,
     "metadata": {},
     "output_type": "execute_result"
    },
    {
     "data": {
      "image/png": "[encoded data removed]",
      "text/plain": [
       "<Figure size 1440x432 with 1 Axes>"
      ]
     },
     "metadata": {},
     "output_type": "display_data"
    }
   ],
   "source": [
    "#feature importance\n",
    "import numpy as np\n",
    "import matplotlib.pyplot as plt \n",
    "\n",
    "feature_name = ['Seat_comfort', 'Inflight_wifi_service','Inflight_entertainment',\n",
    "               'Online_support','Ease_of_Online_booking','On-board_service',\n",
    "               'Leg_room_service', 'Baggage_handling','Cleanliness',\n",
    "                'Online_boarding']\n",
    "#round importance values\n",
    "list_importance1 = np.array(model.featureImportances)\n",
    "list_importance = [round(elem, 2) for elem in list_importance1]\n",
    "\n",
    "# multiple line plot\n",
    "plt.figure(figsize=(20, 6))\n",
    "plt.plot(feature_name, list_importance)\n",
    "for a,b in zip(feature_name, list_importance): \n",
    "    plt.text(a, b, str(b))\n",
    "    \n",
    "# Add titles\n",
    "plt.title(\"Feature importance\")\n",
    "plt.xlabel(\"Feature Name\")\n",
    "plt.ylabel(\"Importance\")"
   ]
  },
  {
   "cell_type": "code",
   "execution_count": 52,
   "metadata": {},
   "outputs": [
    {
     "name": "stdout",
     "output_type": "stream",
     "text": [
      "DecisionTreeClassificationModel (uid=DecisionTreeClassifier_40abbbb7bab41d75dd7c) of depth 3 with 15 nodes\n",
      "  If (feature 2 <= 0.0)\n",
      "   If (feature 0 <= 0.0)\n",
      "    If (feature 4 <= 0.0)\n",
      "     Predict: 0.0\n",
      "    Else (feature 4 > 0.0)\n",
      "     Predict: 0.0\n",
      "   Else (feature 0 > 0.0)\n",
      "    If (feature 8 <= 0.0)\n",
      "     Predict: 0.0\n",
      "    Else (feature 8 > 0.0)\n",
      "     Predict: 1.0\n",
      "  Else (feature 2 > 0.0)\n",
      "   If (feature 9 <= 0.0)\n",
      "    If (feature 4 <= 0.0)\n",
      "     Predict: 0.0\n",
      "    Else (feature 4 > 0.0)\n",
      "     Predict: 1.0\n",
      "   Else (feature 9 > 0.0)\n",
      "    If (feature 6 <= 0.0)\n",
      "     Predict: 1.0\n",
      "    Else (feature 6 > 0.0)\n",
      "     Predict: 1.0\n",
      "\n"
     ]
    }
   ],
   "source": [
    "#print decision rules\n",
    "print(model.toDebugString)"
   ]
  },
  {
   "cell_type": "code",
   "execution_count": 53,
   "metadata": {},
   "outputs": [
    {
     "name": "stdout",
     "output_type": "stream",
     "text": [
      "----------------------------------------\n",
      "| feature 0 is Seat_comfort\n",
      "| feature 1 is Inflight_wifi_service\n",
      "| feature 2 is Inflight_entertainment\n",
      "| feature 3 is Online_support\n",
      "| feature 4 is Ease_of_Online_booking\n",
      "| feature 5 is On-board_service\n",
      "| feature 6 is Leg_room_service\n",
      "| feature 7 is Baggage_handling\n",
      "| feature 8 is Cleanliness\n",
      "| feature 9 is Online_boarding\n",
      "----------------------------------------\n"
     ]
    }
   ],
   "source": [
    "#show feature name\n",
    "feature_name = ['Seat_comfort','Inflight_wifi_service','Inflight_entertainment',\n",
    "               'Online_support','Ease_of_Online_booking','On-board_service',\n",
    "               'Leg_room_service', 'Baggage_handling','Cleanliness',\n",
    "                'Online_boarding']\n",
    "\n",
    "print('-'*40)\n",
    "index = 0\n",
    "for feature in feature_name:\n",
    "    print('| feature ' + str(index) + ' is ' + feature_name[index])\n",
    "    index += 1\n",
    "print('-'*40)"
   ]
  },
  {
   "cell_type": "code",
   "execution_count": null,
   "metadata": {},
   "outputs": [],
   "source": []
  }
 ],
 "metadata": {
  "kernelspec": {
   "display_name": "Python 3",
   "language": "python",
   "name": "python3"
  },
  "language_info": {
   "codemirror_mode": {
    "name": "ipython",
    "version": 3
   },
   "file_extension": ".py",
   "mimetype": "text/x-python",
   "name": "python",
   "nbconvert_exporter": "python",
   "pygments_lexer": "ipython3",
   "version": "3.5.2"
  }
 },
 "nbformat": 4,
 "nbformat_minor": 2
}
